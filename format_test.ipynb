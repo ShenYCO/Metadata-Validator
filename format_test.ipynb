{
 "cells": [
  {
   "cell_type": "code",
   "execution_count": 21,
   "metadata": {},
   "outputs": [],
   "source": [
    "from pyvalidator.schema_validator import SchemaWrapper\n",
    "from pyvalidator.schema_validator import GeneratedSchema"
   ]
  },
  {
   "cell_type": "code",
   "execution_count": 2,
   "metadata": {},
   "outputs": [],
   "source": [
    "import yaml\n",
    "import pydantic\n",
    "\n",
    "file_path = \"./assets/schema/infra_asset_details.yml\"\n",
    "file_path = \"./assets/schema/movie.yml\"\n",
    "\n",
    "\n",
    "with open(file_path,'r') as f:\n",
    "    yaml_file = yaml.safe_load(f)   \n"
   ]
  },
  {
   "cell_type": "code",
   "execution_count": 22,
   "metadata": {},
   "outputs": [],
   "source": [
    "generated_schema = list(yaml_file.keys())[0]\n",
    "data = yaml_file.get(generated_schema)"
   ]
  },
  {
   "cell_type": "code",
   "execution_count": 32,
   "metadata": {},
   "outputs": [
    {
     "name": "stdout",
     "output_type": "stream",
     "text": [
      "Validation error\n",
      " 2 validation errors for SchemaWrapper[GeneratedSchema]\n",
      "root.NBA.table_info\n",
      "  Field required [type=missing, input_value={'subject_area': 'game', ...tifier for the season.'}, input_type=dict]\n",
      "    For further information visit https://errors.pydantic.dev/2.11/v/missing\n",
      "root.NBA.columns\n",
      "  Input should be a valid dictionary [type=dict_type, input_value=None, input_type=NoneType]\n",
      "    For further information visit https://errors.pydantic.dev/2.11/v/dict_type\n"
     ]
    }
   ],
   "source": [
    "try:\n",
    "    validator = SchemaWrapper[GeneratedSchema](root={f\"{generated_schema}\": {**data}})\n",
    "except pydantic.ValidationError as exc:\n",
    "    print(f\"Validation error\\n {exc}\")"
   ]
  },
  {
   "cell_type": "code",
   "execution_count": 25,
   "metadata": {},
   "outputs": [],
   "source": [
    "test_input = \"\"\"\n",
    "NBA:\n",
    " subject_area: game\n",
    " columns:\n",
    " season_id:\n",
    " name: season id\n",
    " type: string\n",
    " column: season_id\n",
    " desc: Unique identifier for the season.\n",
    "\"\"\""
   ]
  },
  {
   "cell_type": "code",
   "execution_count": 31,
   "metadata": {},
   "outputs": [
    {
     "name": "stdout",
     "output_type": "stream",
     "text": [
      "Validation error\n",
      " 2 validation errors for SchemaWrapper[GeneratedSchema]\n",
      "root.NBA.table_info\n",
      "  Field required [type=missing, input_value={'subject_area': 'game', ...tifier for the season.'}, input_type=dict]\n",
      "    For further information visit https://errors.pydantic.dev/2.11/v/missing\n",
      "root.NBA.columns\n",
      "  Input should be a valid dictionary [type=dict_type, input_value=None, input_type=NoneType]\n",
      "    For further information visit https://errors.pydantic.dev/2.11/v/dict_type\n"
     ]
    }
   ],
   "source": [
    "yaml_file = yaml.safe_load(test_input)\n",
    "\n",
    "generated_schema = list(yaml_file.keys())[0]\n",
    "data = yaml_file.get(generated_schema)\n",
    "\n",
    "try:\n",
    "    validator = SchemaWrapper[GeneratedSchema](root={f\"{generated_schema}\": {**data}})\n",
    "    # validator = SchemaWrapper(**yaml_file)\n",
    "except pydantic.ValidationError as exc:\n",
    "    print(f\"Validation error\\n {exc}\")"
   ]
  },
  {
   "cell_type": "code",
   "execution_count": null,
   "metadata": {},
   "outputs": [],
   "source": []
  }
 ],
 "metadata": {
  "kernelspec": {
   "display_name": "venv",
   "language": "python",
   "name": "python3"
  },
  "language_info": {
   "codemirror_mode": {
    "name": "ipython",
    "version": 3
   },
   "file_extension": ".py",
   "mimetype": "text/x-python",
   "name": "python",
   "nbconvert_exporter": "python",
   "pygments_lexer": "ipython3",
   "version": "3.10.9"
  }
 },
 "nbformat": 4,
 "nbformat_minor": 2
}
