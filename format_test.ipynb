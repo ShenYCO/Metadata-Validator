{
 "cells": [
  {
   "cell_type": "code",
   "execution_count": 2,
   "metadata": {},
   "outputs": [],
   "source": [
    "from pyvalidator.schema_validator import SchemaWrapper\n",
    "from pyvalidator.schema_validator import GeneratedSchema\n"
   ]
  },
  {
   "cell_type": "code",
   "execution_count": 3,
   "metadata": {},
   "outputs": [],
   "source": [
    "import yaml\n",
    "import pydantic\n",
    "\n",
    "file_path = \"./assets/schema/infra_asset_details.yml\"\n",
    "file_path = \"./assets/schema/movie.yml\"\n",
    "\n",
    "\n",
    "with open(file_path,'r') as f:\n",
    "    yaml_file = yaml.safe_load(f)   \n"
   ]
  },
  {
   "cell_type": "code",
   "execution_count": 4,
   "metadata": {},
   "outputs": [],
   "source": [
    "generated_schema = list(yaml_file.keys())[0]\n",
    "data = yaml_file.get(generated_schema)"
   ]
  },
  {
   "cell_type": "code",
   "execution_count": 5,
   "metadata": {},
   "outputs": [],
   "source": [
    "try:\n",
    "    validator = SchemaWrapper[GeneratedSchema](root={f\"{generated_schema}\": {**data}})\n",
    "except pydantic.ValidationError as exc:\n",
    "    print(f\"Validation error\\n {exc}\")"
   ]
  }
 ],
 "metadata": {
  "kernelspec": {
   "display_name": "venv",
   "language": "python",
   "name": "python3"
  },
  "language_info": {
   "codemirror_mode": {
    "name": "ipython",
    "version": 3
   },
   "file_extension": ".py",
   "mimetype": "text/x-python",
   "name": "python",
   "nbconvert_exporter": "python",
   "pygments_lexer": "ipython3",
   "version": "3.10.9"
  }
 },
 "nbformat": 4,
 "nbformat_minor": 2
}
